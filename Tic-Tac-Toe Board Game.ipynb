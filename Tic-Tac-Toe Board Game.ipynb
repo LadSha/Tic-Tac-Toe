{
 "cells": [
  {
   "cell_type": "code",
   "execution_count": 3,
   "metadata": {},
   "outputs": [
    {
     "name": "stdout",
     "output_type": "stream",
     "text": [
      "X|X|O\n",
      "X|O|O\n",
      "X| | \n",
      "X WON!!\n"
     ]
    }
   ],
   "source": [
    "def players_marker ():\n",
    "    player1 = raw_input ('Player1 choose X or O ').upper()\n",
    "    if player1 == 'X':\n",
    "        player2 = 'O'\n",
    "    else: \n",
    "        player2 = 'X'\n",
    "    print ('player 1:'+ player1 + ', player 2 :'+ player2)\n",
    "    return (player1 , player2)\n",
    "x = players_marker ()\n",
    "marker = x[0]\n",
    "from IPython.display import clear_output\n",
    "def printing_board (board):\n",
    "    clear_output()\n",
    "    print board[0]+'|'+ board[1]+ '|'+ board[2]\n",
    "    print board[3]+'|'+board[4]+'|'+ board[5]\n",
    "    print board[6]+'|'+board[7]+'|'+board[8]\n",
    "board = [\" \"]*9\n",
    "printing_board (board)\n",
    "player = \"player1\"\n",
    "\n",
    "for i in range (0,9):\n",
    "    def players_input (marker):\n",
    "        input = raw_input ('enter the cell number 1 - 9  ')\n",
    "        while board[int(input)-1] <> \" \":\n",
    "            print 'Cell is already selected'\n",
    "            input = raw_input ('select a different cell')\n",
    "        board[int(input)-1] = marker\n",
    "        return board\n",
    "    board = players_input (marker)\n",
    "    printing_board (board)\n",
    "    def winning (p):\n",
    "        game_end = False\n",
    "        for n in [0,3,6]:\n",
    "            if board[n] == p:\n",
    "                if board [n+1] ==p:\n",
    "                    if board [n+2] == p:\n",
    "                        game_end = True\n",
    "                        print p + ' WON!!'\n",
    "                        \n",
    "        for n in [0,1,2]:\n",
    "            if board[n] == p:\n",
    "                if board [n+3] ==p:\n",
    "                    if board [n+6] == p:\n",
    "                        game_end = True\n",
    "                        print p + ' WON!!'\n",
    "                    \n",
    "        if board[0] == p:\n",
    "            if board [4] ==p:\n",
    "                if board [8] == p:\n",
    "                    game_end = True\n",
    "                    print p + ' WON!!'\n",
    "                    \n",
    "        if board[2] == p:\n",
    "            if board [4] ==p:\n",
    "                if board [6] == p:\n",
    "                    game_end = True\n",
    "                    print p + ' WON!!'\n",
    "                    \n",
    "        return (game_end)\n",
    "    game_end = winning(marker)\n",
    "    if marker == \"X\":\n",
    "        marker = \"O\"\n",
    "    else:\n",
    "        marker = \"X\"\n",
    "    if game_end == True:\n",
    "        break\n",
    "    if i == 8:\n",
    "        if game_end == False:\n",
    "            print 'GAME OVER!'"
   ]
  },
  {
   "cell_type": "code",
   "execution_count": null,
   "metadata": {
    "collapsed": true
   },
   "outputs": [],
   "source": []
  }
 ],
 "metadata": {
  "kernelspec": {
   "display_name": "Python 3",
   "language": "python",
   "name": "python3"
  },
  "language_info": {
   "codemirror_mode": {
    "name": "ipython",
    "version": 2
   },
   "file_extension": ".py",
   "mimetype": "text/x-python",
   "name": "python",
   "nbconvert_exporter": "python",
   "pygments_lexer": "ipython2",
   "version": "2.7.14"
  }
 },
 "nbformat": 4,
 "nbformat_minor": 2
}
